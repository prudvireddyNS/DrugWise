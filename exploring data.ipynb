{
 "cells": [
  {
   "cell_type": "code",
   "execution_count": 1,
   "metadata": {},
   "outputs": [],
   "source": [
    "import pandas as pd\n",
    "import numpy as np"
   ]
  },
  {
   "cell_type": "code",
   "execution_count": 3,
   "metadata": {},
   "outputs": [
    {
     "data": {
      "text/html": [
       "<div>\n",
       "<style scoped>\n",
       "    .dataframe tbody tr th:only-of-type {\n",
       "        vertical-align: middle;\n",
       "    }\n",
       "\n",
       "    .dataframe tbody tr th {\n",
       "        vertical-align: top;\n",
       "    }\n",
       "\n",
       "    .dataframe thead th {\n",
       "        text-align: right;\n",
       "    }\n",
       "</style>\n",
       "<table border=\"1\" class=\"dataframe\">\n",
       "  <thead>\n",
       "    <tr style=\"text-align: right;\">\n",
       "      <th></th>\n",
       "      <th>sub_category</th>\n",
       "      <th>product_name</th>\n",
       "      <th>salt_composition</th>\n",
       "      <th>product_price</th>\n",
       "      <th>product_manufactured</th>\n",
       "      <th>medicine_desc</th>\n",
       "      <th>side_effects</th>\n",
       "      <th>drug_interactions</th>\n",
       "    </tr>\n",
       "  </thead>\n",
       "  <tbody>\n",
       "    <tr>\n",
       "      <th>0</th>\n",
       "      <td>Human Insulin Basal</td>\n",
       "      <td>Human Insulatard 40IU/ml Suspension for Injection</td>\n",
       "      <td>Insulin Isophane (40IU)</td>\n",
       "      <td>₹133.93</td>\n",
       "      <td>Novo Nordisk India Pvt Ltd</td>\n",
       "      <td>Human Insulatard 40IU/ml Suspension for Inject...</td>\n",
       "      <td>Hypoglycemia (low blood glucose level),Injecti...</td>\n",
       "      <td>{\"drug\": [\"Benazepril\", \"Captopril\", \"Enalapri...</td>\n",
       "    </tr>\n",
       "    <tr>\n",
       "      <th>1</th>\n",
       "      <td>Human Insulin Basal</td>\n",
       "      <td>Insulin 40IU/ml Injection</td>\n",
       "      <td>Insulin Isophane (40IU)</td>\n",
       "      <td>₹121.91</td>\n",
       "      <td>Sun Pharmaceutical Industries Ltd</td>\n",
       "      <td>Insulin 40IU/ml Injection is used to improve b...</td>\n",
       "      <td>Hypoglycemia (low blood glucose level),Injecti...</td>\n",
       "      <td>{\"drug\": [\"Benazepril\", \"Captopril\", \"Enalapri...</td>\n",
       "    </tr>\n",
       "    <tr>\n",
       "      <th>2</th>\n",
       "      <td>Human Insulin Basal</td>\n",
       "      <td>Huminsulin N 40IU/ml Injection</td>\n",
       "      <td>Insulin Isophane (40IU)</td>\n",
       "      <td>₹133.45</td>\n",
       "      <td>Eli Lilly and Company India Pvt Ltd</td>\n",
       "      <td>Huminsulin N 40IU/ml Injection is used to impr...</td>\n",
       "      <td>Hypoglycemia (low blood glucose level),Injecti...</td>\n",
       "      <td>{\"drug\": [\"Benazepril\", \"Captopril\", \"Enalapri...</td>\n",
       "    </tr>\n",
       "    <tr>\n",
       "      <th>3</th>\n",
       "      <td>Human Insulin Basal</td>\n",
       "      <td>Insugen-N 40IU/ml Injection</td>\n",
       "      <td>Insulin Isophane (40IU)</td>\n",
       "      <td>₹133.36</td>\n",
       "      <td>Biocon</td>\n",
       "      <td>Insugen-N 40IU/ml Injection is used to improve...</td>\n",
       "      <td>Hypoglycemia (low blood glucose level),Injecti...</td>\n",
       "      <td>{\"drug\": [\"Benazepril\", \"Captopril\", \"Enalapri...</td>\n",
       "    </tr>\n",
       "    <tr>\n",
       "      <th>4</th>\n",
       "      <td>Human Insulin Basal</td>\n",
       "      <td>Insulatard 100IU/ml Flexpen</td>\n",
       "      <td>Insulin Isophane (100IU/ml)</td>\n",
       "      <td>₹401.03</td>\n",
       "      <td>Novo Nordisk India Pvt Ltd</td>\n",
       "      <td>Insulatard 100IU/ml Flexpen is used to improve...</td>\n",
       "      <td>Hypoglycemia (low blood glucose level),Injecti...</td>\n",
       "      <td>{\"drug\": [\"Benazepril\", \"Captopril\", \"Enalapri...</td>\n",
       "    </tr>\n",
       "  </tbody>\n",
       "</table>\n",
       "</div>"
      ],
      "text/plain": [
       "          sub_category                                       product_name  \\\n",
       "0  Human Insulin Basal  Human Insulatard 40IU/ml Suspension for Injection   \n",
       "1  Human Insulin Basal                          Insulin 40IU/ml Injection   \n",
       "2  Human Insulin Basal                     Huminsulin N 40IU/ml Injection   \n",
       "3  Human Insulin Basal                        Insugen-N 40IU/ml Injection   \n",
       "4  Human Insulin Basal                        Insulatard 100IU/ml Flexpen   \n",
       "\n",
       "              salt_composition product_price  \\\n",
       "0      Insulin Isophane (40IU)       ₹133.93   \n",
       "1      Insulin Isophane (40IU)       ₹121.91   \n",
       "2      Insulin Isophane (40IU)       ₹133.45   \n",
       "3      Insulin Isophane (40IU)       ₹133.36   \n",
       "4  Insulin Isophane (100IU/ml)       ₹401.03   \n",
       "\n",
       "                  product_manufactured  \\\n",
       "0           Novo Nordisk India Pvt Ltd   \n",
       "1    Sun Pharmaceutical Industries Ltd   \n",
       "2  Eli Lilly and Company India Pvt Ltd   \n",
       "3                               Biocon   \n",
       "4           Novo Nordisk India Pvt Ltd   \n",
       "\n",
       "                                       medicine_desc  \\\n",
       "0  Human Insulatard 40IU/ml Suspension for Inject...   \n",
       "1  Insulin 40IU/ml Injection is used to improve b...   \n",
       "2  Huminsulin N 40IU/ml Injection is used to impr...   \n",
       "3  Insugen-N 40IU/ml Injection is used to improve...   \n",
       "4  Insulatard 100IU/ml Flexpen is used to improve...   \n",
       "\n",
       "                                        side_effects  \\\n",
       "0  Hypoglycemia (low blood glucose level),Injecti...   \n",
       "1  Hypoglycemia (low blood glucose level),Injecti...   \n",
       "2  Hypoglycemia (low blood glucose level),Injecti...   \n",
       "3  Hypoglycemia (low blood glucose level),Injecti...   \n",
       "4  Hypoglycemia (low blood glucose level),Injecti...   \n",
       "\n",
       "                                   drug_interactions  \n",
       "0  {\"drug\": [\"Benazepril\", \"Captopril\", \"Enalapri...  \n",
       "1  {\"drug\": [\"Benazepril\", \"Captopril\", \"Enalapri...  \n",
       "2  {\"drug\": [\"Benazepril\", \"Captopril\", \"Enalapri...  \n",
       "3  {\"drug\": [\"Benazepril\", \"Captopril\", \"Enalapri...  \n",
       "4  {\"drug\": [\"Benazepril\", \"Captopril\", \"Enalapri...  "
      ]
     },
     "execution_count": 3,
     "metadata": {},
     "output_type": "execute_result"
    }
   ],
   "source": [
    "data = pd.read_csv('medicine_data.csv')\n",
    "data.head()"
   ]
  },
  {
   "cell_type": "code",
   "execution_count": null,
   "metadata": {},
   "outputs": [],
   "source": []
  },
  {
   "cell_type": "code",
   "execution_count": 7,
   "metadata": {},
   "outputs": [
    {
     "data": {
      "text/plain": [
       "252"
      ]
     },
     "execution_count": 7,
     "metadata": {},
     "output_type": "execute_result"
    }
   ],
   "source": [
    "len(data['sub_category'].unique())"
   ]
  },
  {
   "cell_type": "code",
   "execution_count": 8,
   "metadata": {},
   "outputs": [
    {
     "data": {
      "text/plain": [
       "array(['Human Insulin Basal', 'Human Insulin Premix',\n",
       "       'Human Insulin Rapid', 'Human Insulins And Analogues',\n",
       "       'Insulin Analogues Basal', 'Insulin Analogues Rapid',\n",
       "       'Oral Antidiabetics', 'Other Drugs Used In Diabetes',\n",
       "       'All Other Anti Infectives', 'Amebicides', 'Aminoglycosides',\n",
       "       'Anthelmintics Excluding Schistosomicides', 'Anti Flu Drugs',\n",
       "       'Antitubercular Products', 'Antivirals Excluding Hiv Products',\n",
       "       'Broad Spectrum Penicillins', 'Carbenicillin And Similar Types',\n",
       "       'Cephalosporins', 'Chloramphenicol And Combinations',\n",
       "       'Drugs For Treatment Of Lepra', 'Fluoroquinolones',\n",
       "       'Hiv Antivirals', 'Macrolides And Similar Types',\n",
       "       'Medium And Narrow Spectrum Penicillins', 'Other Antibacterials',\n",
       "       'Other Anti Parasitic Agents',\n",
       "       'Other Beta Lactam Antibacterials Excluding Penicillins Cephalosporins',\n",
       "       'Schistosomicides', 'Systemic Agents For Fungal Infections',\n",
       "       'Systemic Sulphonamides Excluding Trimethoprim Combinations',\n",
       "       'Tetracyclines And Combinations', 'Trichomonacides',\n",
       "       'Trimethoprim And Similar Formulations', 'Other Anti Malarials',\n",
       "       'Alkylating Agents', 'All Other Antineoplastics',\n",
       "       'Antimetabolites', 'Antineoplastic Antibiotics',\n",
       "       'Anti Tnf Products', 'Cytostatic Hormone Antagonists',\n",
       "       'Cytostatic Hormones',\n",
       "       'Immunostimulating Agents Excluding Interferons',\n",
       "       'Immunosuppressive Agents', 'Interferons',\n",
       "       'Vinca Alkaloids And Other Plant Products',\n",
       "       'Antagonists Antidotes To Anticoagulants', 'Antifibrinolytics',\n",
       "       'Detoxifying Agents For Antineoplastic Treatment', 'Dextrans',\n",
       "       'Direct Factor Xa Inhibitors', 'Electrolyte Solutions',\n",
       "       'Erythropoietin Products', 'Haematinics', 'Heparins',\n",
       "       'Hyaluronidase', 'Iron Chelating Agents', 'Irrigating Solutions',\n",
       "       'Liver Extracts And Combinations With B12',\n",
       "       'Other Antithrombotic Agents Blood',\n",
       "       'Platelet Aggregation Inhibitors', 'Proteinase Inhibitors',\n",
       "       'Solutions For Osmotic Therapy', 'Standard Solutions',\n",
       "       'Systemic Heamostatics', 'Vitamin K Antagonists',\n",
       "       'Ace Inhibitors Combined With Anti Hypertensives',\n",
       "       'Ace Inhibitors Combined With Diuretics', 'Ace Inhibitors Plain',\n",
       "       'Ace Inhibitors Statins Fibrate', 'All Other Cardiac Preparations',\n",
       "       'All Other Cholesterol Triglyceride Regulators',\n",
       "       'Angiotensin Ii Antagonists Ace Inhibitors',\n",
       "       'Angiotensin Ii Antagonists Beta Blockers',\n",
       "       'Angiotensin Ii Antagonists Calcium Antagonists',\n",
       "       'Angiotensin Ii Antagonists Combined With Anti Hypertensives',\n",
       "       'Nitrites And Nitrates', 'Plain Topical Corticosteroids',\n",
       "       'Skin Dermal Epidermal Preparations',\n",
       "       'Systemic Antipsoriasis Prodcuts',\n",
       "       'Topical Anti Acne Preparations',\n",
       "       'Topical Antibiotics And Or Sulphonamids',\n",
       "       'Topical Antipsoriasis Products', 'Topical Antivirals',\n",
       "       'Topical Corticosteroid Combinations',\n",
       "       'Topical Dermatological Antifungals', 'All Other Antidiarrhoeals',\n",
       "       'All Other Anti Ulcerants', 'Amebicides Gastro',\n",
       "       'Antacids Antiflatulents And Carminatives',\n",
       "       'Antidiarrhoeal Micro Organisms',\n",
       "       'Antispasmodic Analgesic Combinations',\n",
       "       'Antispasmodic Ataractic Combinations',\n",
       "       'Antispasmodics Combined With Other Products',\n",
       "       'Anti Ulcerants Acid Pump Inhibitors',\n",
       "       'Anti Ulcerants H2 Antagonists', 'Anti Ulcerants Prostaglandins',\n",
       "       'Anti Ulcerants With Antibiotics',\n",
       "       'Bile Therapy And Cholagogues Bile Stone Therapy',\n",
       "       'Bulk Producers', 'Cholagogue Lipotropic Combinations',\n",
       "       'Contact Laxatives', 'Drugs For Pancreatic Disorder',\n",
       "       'Enzyme Combinations', 'Gastro Intestinal Sensorimotor Modulators',\n",
       "       'Gastroprokinetics', 'Hepatic Protectors Lipotropics',\n",
       "       'Intestinal Anti Infective Antidiarrhoeals',\n",
       "       'Intestinal Anti Inflammatory Agents', 'Motility Inhibitors',\n",
       "       'Oral Saline Preparations', 'Other Antiemetics And Antinauseants',\n",
       "       'Other Laxatives', 'Pancreatic Enzymes',\n",
       "       'Plain Antispasmodics And Anticholinergics',\n",
       "       'Serotonin Antagonist Antiemetics Antinauseants',\n",
       "       'Softners Emollients', 'Tetracyclines And Combinations Gastro',\n",
       "       'Agents For Fungal Infections', 'Androgens Excluding G3 E G3 F',\n",
       "       'Gonadotrophins Including Other Ovulation Stimulants',\n",
       "       'Gynaecological Antibiotics Sulphonamides',\n",
       "       'Haematinics Iron And All Combinations',\n",
       "       'Hormonal Contraceptives Systemic', 'Labour Inducers',\n",
       "       'Labour Inhibitors', 'Oestrogens Excluding G3 A G3 E G3 F',\n",
       "       'Oestrogen With Progestogen Combinations Excluding G3 A',\n",
       "       'Other Gynaecological Products',\n",
       "       'Other Sex Hormones And Similar Products',\n",
       "       'Progestogens Excluding G3 A G3 F', 'Prolactin Inhibitors',\n",
       "       'Selective Oestrogen Receptor Modulators Serms', 'Acth',\n",
       "       'Anabolic Hormones Systemic', 'Antidiuretic Hormones',\n",
       "       'Antigonadotrphin Releasing Hormones', 'Antigrowth Hormones',\n",
       "       'Anti Osteoporotic Products',\n",
       "       'Anti Rheumatics Corticosteroid Combinations Systemic',\n",
       "       'Anti Thyroid Preparation', 'Glucagon',\n",
       "       'Gonadotrophin Releasing Hormones Not Used As Cytostatics',\n",
       "       'Growth Hormones', 'Other Anabolic Agents Systemic',\n",
       "       'Systemic Corticosteroids Plain', 'Thyroid Preparation',\n",
       "       'All Other Cns Drugs', 'Anti Alzheimer Products',\n",
       "       'Anti Depressants And Mood Stabilisers', 'Anti Epileptics',\n",
       "       'Anti Migraine Preparations', 'Anti Parkinson Drugs',\n",
       "       'Anti Smoking Products', 'Antivertigo Products',\n",
       "       'Atypical Antipsychotics', 'Conventional Antipsychotics',\n",
       "       'Drugs Used In Alcohol Dependence',\n",
       "       'Drugs Used In Opioid Dependence', 'Hypnotics Sedatives',\n",
       "       'Neurotonics Other Miscellaneous Drugs', 'Nootropics',\n",
       "       'Tranquillisers', 'Artificial Tears And Ocular Lubricants',\n",
       "       'Miotics And Antiglaucoma Preparations',\n",
       "       'Mydriatics And Cyclopegics',\n",
       "       'Ocular Anti Allergics Decongestants Antiseptics',\n",
       "       'Ocular Antineovascularisation Products',\n",
       "       'Ophthalmological Anti Infectives Medicines',\n",
       "       'Ophthalmological Corticosteroids',\n",
       "       'Opthalmological Diagnostic Agents',\n",
       "       'Opthalmological Local Anaesthetics', 'Opthalmological Nsaids',\n",
       "       'Opthalmological Surgical Aids', 'Other Opthalmologicals',\n",
       "       'Eye Ear Anti Infectives',\n",
       "       'Eye Ear Anti Infectives Corticosteroid Combinations',\n",
       "       'Eye Ear Corticosteroids', 'Ophthalmological Anti Infectives',\n",
       "       'Allergens', 'All Other Non Therapeutic Products', 'Antidotes',\n",
       "       'Antiobesity Preparations Excluding Dietetics',\n",
       "       'Hyperkalaemia Hyperphosphataemia Products',\n",
       "       'Low Osmolar Angio Urography',\n",
       "       'Other Hormones And Preparations With Similar Action',\n",
       "       'Radiodiagnostic Agents', 'Sweetener', 'Varicose Therapy Systemic',\n",
       "       'Other Otologicals', 'Otological Anti Infectives',\n",
       "       'Otological Anti Infectives Corticosteroid Combinations',\n",
       "       'Anaesthetics General Inhalation',\n",
       "       'Anaesthetics General Injectables', 'Anaesthetics Local',\n",
       "       'Anti Gout Preparations', 'Anti Inflammatory Enzymes',\n",
       "       'Anti Rheumatics Non Steroidal Systemic',\n",
       "       'Medicines For Osteoporosis', 'Muscle Relaxants Centrally Acting',\n",
       "       'Muscle Relaxants Peripherally Acting', 'Narcotics',\n",
       "       'Non Narcotics And Anti Pyretics',\n",
       "       'Products For Treatment Of Osteoarthritis',\n",
       "       'Products For Treatment Of Rheumatoid Arthritis',\n",
       "       'Specific Anti Rheumatic Agents Systemic',\n",
       "       'Topical Anti Rheumatic Non Steroidal',\n",
       "       'All Other Anti Asthma And Copd Products',\n",
       "       'Antitussive Bronchodilator Expectorant',\n",
       "       'Antitussives With Codeine', 'Antitussives Without Codeine',\n",
       "       'Bronchodilators', 'Bronchodilators Systemic',\n",
       "       'Cold Preparations Without Anti Infectives',\n",
       "       'Expectorants Antitussives Cough Preparations', 'Lung Surfactants',\n",
       "       'Non Steroidal Respiratory Anti Inflammatories',\n",
       "       'Other Cough Cold Preparations', 'Pde4 Inhibitors For Asthma Copd',\n",
       "       'Respiratory Stimulants', 'Systemic Antihistamines',\n",
       "       'Topical Nasal Preparations Non Steroidal',\n",
       "       'Topical Nasal Preparations Steroidal',\n",
       "       'All Other Therapeutic Products', 'Erectile Dysfunction Products',\n",
       "       'Other Stomatologicals', 'All Other Urological Products',\n",
       "       'Benign Prostatic Hypertrophy Bph Products',\n",
       "       'Urinary Anti Infectives And Antiseptics',\n",
       "       'Urinary Incontinence Products', 'All Other Vaccines',\n",
       "       'Antitoxic Sera', 'Combination Of Vaccines',\n",
       "       'Homologous Immunologically Active Globulins Intravenous',\n",
       "       'Polyvalent Immunoglobulins Intramuscular', 'Pure Vaccines',\n",
       "       'Specific Immunoglobulins Antibacterial',\n",
       "       'Specific Immunoglobulins Antiviral',\n",
       "       'Amino Acid Solutions Except Those Containing Fats',\n",
       "       'Appetite Stimulants', 'B Complex', 'Calcium Others',\n",
       "       'Calcium Products', 'Kanpo And Chinese Medicines',\n",
       "       'Methylcobalamin Combinations', 'Methylcobalamin Plain',\n",
       "       'Modern Anti Oxidants', 'Multivitamin With Minerals',\n",
       "       'Other Mineral Supplements', 'Other Nutrients', 'Other Vitamins',\n",
       "       'Potassium Products',\n",
       "       'Traditional Antioxidants Multivit Multimineral'], dtype=object)"
      ]
     },
     "execution_count": 8,
     "metadata": {},
     "output_type": "execute_result"
    }
   ],
   "source": [
    "data['sub_category'].unique()"
   ]
  },
  {
   "cell_type": "code",
   "execution_count": 9,
   "metadata": {},
   "outputs": [
    {
     "data": {
      "text/plain": [
       "7469"
      ]
     },
     "execution_count": 9,
     "metadata": {},
     "output_type": "execute_result"
    }
   ],
   "source": [
    "len(data['product_name'].unique())"
   ]
  },
  {
   "cell_type": "code",
   "execution_count": 12,
   "metadata": {},
   "outputs": [
    {
     "data": {
      "text/plain": [
       "array(['Human Insulatard 40IU/ml Suspension for Injection',\n",
       "       'Insulin 40IU/ml Injection', 'Huminsulin N 40IU/ml Injection',\n",
       "       'Insugen-N 40IU/ml Injection', 'Insulatard 100IU/ml Flexpen',\n",
       "       'Huminsulin N 100IU/ml Cartridge',\n",
       "       'Huminsulin N 100IU/ml Injection',\n",
       "       'Insulatard HM 100IU/ml Penfill', 'Lupisulin N 40IU/ml Injection',\n",
       "       'Insugen-N 100IU/ml Refil Injection'], dtype=object)"
      ]
     },
     "execution_count": 12,
     "metadata": {},
     "output_type": "execute_result"
    }
   ],
   "source": [
    "data['product_name'].unique()[:10]"
   ]
  },
  {
   "cell_type": "code",
   "execution_count": 20,
   "metadata": {},
   "outputs": [],
   "source": [
    "from pprint import pprint"
   ]
  },
  {
   "cell_type": "code",
   "execution_count": 22,
   "metadata": {},
   "outputs": [
    {
     "name": "stdout",
     "output_type": "stream",
     "text": [
      "Sulisent 100mg Tablet\n",
      "('{\"drug\": [\"Amiloride\", \"Beclometasone\", \"Betamethasone\", \"Chlorthalidone\"], '\n",
      " '\"brand\": [\" Amiur\", \" Becoride, Rhinase, Bevent\", \" Densol, Catrisol, '\n",
      " 'Betaforte\", \" Chlornol\"], \"effect\": [\"SERIOUS\", \"SERIOUS\", \"SERIOUS\", '\n",
      " '\"SERIOUS\"]}')\n"
     ]
    }
   ],
   "source": [
    "print(data['product_name'][4010])\n",
    "pprint(data['drug_interactions'][4010])"
   ]
  },
  {
   "cell_type": "code",
   "execution_count": 23,
   "metadata": {},
   "outputs": [
    {
     "name": "stdout",
     "output_type": "stream",
     "text": [
      "<class 'pandas.core.frame.DataFrame'>\n",
      "RangeIndex: 195605 entries, 0 to 195604\n",
      "Data columns (total 8 columns):\n",
      " #   Column                Non-Null Count   Dtype \n",
      "---  ------                --------------   ----- \n",
      " 0   sub_category          195605 non-null  object\n",
      " 1   product_name          195605 non-null  object\n",
      " 2   salt_composition      195605 non-null  object\n",
      " 3   product_price         176169 non-null  object\n",
      " 4   product_manufactured  195605 non-null  object\n",
      " 5   medicine_desc         195605 non-null  object\n",
      " 6   side_effects          195605 non-null  object\n",
      " 7   drug_interactions     195605 non-null  object\n",
      "dtypes: object(8)\n",
      "memory usage: 11.9+ MB\n"
     ]
    }
   ],
   "source": [
    "data.info()"
   ]
  },
  {
   "cell_type": "code",
   "execution_count": 24,
   "metadata": {},
   "outputs": [
    {
     "data": {
      "text/html": [
       "<div>\n",
       "<style scoped>\n",
       "    .dataframe tbody tr th:only-of-type {\n",
       "        vertical-align: middle;\n",
       "    }\n",
       "\n",
       "    .dataframe tbody tr th {\n",
       "        vertical-align: top;\n",
       "    }\n",
       "\n",
       "    .dataframe thead th {\n",
       "        text-align: right;\n",
       "    }\n",
       "</style>\n",
       "<table border=\"1\" class=\"dataframe\">\n",
       "  <thead>\n",
       "    <tr style=\"text-align: right;\">\n",
       "      <th></th>\n",
       "      <th>sub_category</th>\n",
       "      <th>product_name</th>\n",
       "      <th>salt_composition</th>\n",
       "      <th>product_price</th>\n",
       "      <th>product_manufactured</th>\n",
       "      <th>medicine_desc</th>\n",
       "      <th>side_effects</th>\n",
       "      <th>drug_interactions</th>\n",
       "    </tr>\n",
       "  </thead>\n",
       "  <tbody>\n",
       "    <tr>\n",
       "      <th>count</th>\n",
       "      <td>195605</td>\n",
       "      <td>195605</td>\n",
       "      <td>195605</td>\n",
       "      <td>176169</td>\n",
       "      <td>195605</td>\n",
       "      <td>195605</td>\n",
       "      <td>195605</td>\n",
       "      <td>195605</td>\n",
       "    </tr>\n",
       "    <tr>\n",
       "      <th>unique</th>\n",
       "      <td>252</td>\n",
       "      <td>7469</td>\n",
       "      <td>2663</td>\n",
       "      <td>3782</td>\n",
       "      <td>986</td>\n",
       "      <td>7469</td>\n",
       "      <td>1184</td>\n",
       "      <td>179</td>\n",
       "    </tr>\n",
       "    <tr>\n",
       "      <th>top</th>\n",
       "      <td>Cephalosporins</td>\n",
       "      <td>Monocef 1gm Injection</td>\n",
       "      <td>Cefpodoxime Proxetil (200mg)</td>\n",
       "      <td>₹130.9</td>\n",
       "      <td>Sun Pharmaceutical Industries Ltd</td>\n",
       "      <td>Monocef 1gm Injection is an antibiotic belongi...</td>\n",
       "      <td>Vomiting,Nausea,Diarrhea</td>\n",
       "      <td>{\"drug\": [], \"brand\": [], \"effect\": []}</td>\n",
       "    </tr>\n",
       "    <tr>\n",
       "      <th>freq</th>\n",
       "      <td>24657</td>\n",
       "      <td>619</td>\n",
       "      <td>4314</td>\n",
       "      <td>1300</td>\n",
       "      <td>20559</td>\n",
       "      <td>619</td>\n",
       "      <td>7601</td>\n",
       "      <td>118058</td>\n",
       "    </tr>\n",
       "  </tbody>\n",
       "</table>\n",
       "</div>"
      ],
      "text/plain": [
       "          sub_category           product_name              salt_composition  \\\n",
       "count           195605                 195605                        195605   \n",
       "unique             252                   7469                          2663   \n",
       "top     Cephalosporins  Monocef 1gm Injection  Cefpodoxime Proxetil (200mg)   \n",
       "freq             24657                    619                          4314   \n",
       "\n",
       "       product_price               product_manufactured  \\\n",
       "count         176169                             195605   \n",
       "unique          3782                                986   \n",
       "top           ₹130.9  Sun Pharmaceutical Industries Ltd   \n",
       "freq            1300                              20559   \n",
       "\n",
       "                                            medicine_desc  \\\n",
       "count                                              195605   \n",
       "unique                                               7469   \n",
       "top     Monocef 1gm Injection is an antibiotic belongi...   \n",
       "freq                                                  619   \n",
       "\n",
       "                    side_effects                        drug_interactions  \n",
       "count                     195605                                   195605  \n",
       "unique                      1184                                      179  \n",
       "top     Vomiting,Nausea,Diarrhea  {\"drug\": [], \"brand\": [], \"effect\": []}  \n",
       "freq                        7601                                   118058  "
      ]
     },
     "execution_count": 24,
     "metadata": {},
     "output_type": "execute_result"
    }
   ],
   "source": [
    "data.describe()"
   ]
  },
  {
   "cell_type": "code",
   "execution_count": 34,
   "metadata": {},
   "outputs": [
    {
     "data": {
      "text/plain": [
       "str"
      ]
     },
     "execution_count": 34,
     "metadata": {},
     "output_type": "execute_result"
    }
   ],
   "source": [
    "type(data['drug_interactions'][0])"
   ]
  },
  {
   "cell_type": "code",
   "execution_count": 35,
   "metadata": {},
   "outputs": [
    {
     "data": {
      "text/plain": [
       "'{\"drug\": [\"Benazepril\", \"Captopril\", \"Enalapril\", \"Fosinopril\"], \"brand\": [\" Apriace\", \" Capotril, Aceten, Angiopril\", \" Enatol, AB-Pril, Inopril\", \" Fovas\"], \"effect\": [\"MODERATE\", \"MODERATE\", \"MODERATE\", \"MODERATE\"]}'"
      ]
     },
     "execution_count": 35,
     "metadata": {},
     "output_type": "execute_result"
    }
   ],
   "source": [
    "data['drug_interactions'][0]"
   ]
  },
  {
   "cell_type": "code",
   "execution_count": 39,
   "metadata": {},
   "outputs": [
    {
     "name": "stdout",
     "output_type": "stream",
     "text": [
      "                                                  drug  \\\n",
      "0       [Benazepril, Captopril, Enalapril, Fosinopril]   \n",
      "1       [Benazepril, Captopril, Enalapril, Fosinopril]   \n",
      "2       [Benazepril, Captopril, Enalapril, Fosinopril]   \n",
      "3       [Benazepril, Captopril, Enalapril, Fosinopril]   \n",
      "4       [Benazepril, Captopril, Enalapril, Fosinopril]   \n",
      "...                                                ...   \n",
      "195600                    [Leflunomide, Penicillamine]   \n",
      "195601                    [Leflunomide, Penicillamine]   \n",
      "195602                    [Leflunomide, Penicillamine]   \n",
      "195603                    [Leflunomide, Penicillamine]   \n",
      "195604                                              []   \n",
      "\n",
      "                                                    brand  \\\n",
      "0       [ Apriace,  Capotril, Aceten, Angiopril,  Enat...   \n",
      "1       [ Apriace,  Capotril, Aceten, Angiopril,  Enat...   \n",
      "2       [ Apriace,  Capotril, Aceten, Angiopril,  Enat...   \n",
      "3       [ Apriace,  Capotril, Aceten, Angiopril,  Enat...   \n",
      "4       [ Apriace,  Capotril, Aceten, Angiopril,  Enat...   \n",
      "...                                                   ...   \n",
      "195600  [ Lefsum, Lefunid, Lefumide,  Artamin, Atrmin,...   \n",
      "195601  [ Lefsum, Lefunid, Lefumide,  Artamin, Atrmin,...   \n",
      "195602  [ Lefsum, Lefunid, Lefumide,  Artamin, Atrmin,...   \n",
      "195603  [ Lefsum, Lefunid, Lefumide,  Artamin, Atrmin,...   \n",
      "195604                                                 []   \n",
      "\n",
      "                                          effect  \n",
      "0       [MODERATE, MODERATE, MODERATE, MODERATE]  \n",
      "1       [MODERATE, MODERATE, MODERATE, MODERATE]  \n",
      "2       [MODERATE, MODERATE, MODERATE, MODERATE]  \n",
      "3       [MODERATE, MODERATE, MODERATE, MODERATE]  \n",
      "4       [MODERATE, MODERATE, MODERATE, MODERATE]  \n",
      "...                                          ...  \n",
      "195600      [LIFE-THREATENING, LIFE-THREATENING]  \n",
      "195601      [LIFE-THREATENING, LIFE-THREATENING]  \n",
      "195602      [LIFE-THREATENING, LIFE-THREATENING]  \n",
      "195603      [LIFE-THREATENING, LIFE-THREATENING]  \n",
      "195604                                        []  \n",
      "\n",
      "[195605 rows x 3 columns]\n"
     ]
    }
   ],
   "source": [
    "import json\n",
    "\n",
    "interaction_data = data['drug_interactions']\n",
    "\n",
    "interaction_dicts = [json.loads(entry) for entry in interaction_data]\n",
    "\n",
    "df = pd.DataFrame(interaction_dicts)\n",
    "\n",
    "print(df)\n"
   ]
  },
  {
   "cell_type": "code",
   "execution_count": 41,
   "metadata": {},
   "outputs": [
    {
     "name": "stdout",
     "output_type": "stream",
     "text": [
      "<class 'pandas.core.frame.DataFrame'>\n",
      "RangeIndex: 195605 entries, 0 to 195604\n",
      "Data columns (total 3 columns):\n",
      " #   Column  Non-Null Count   Dtype \n",
      "---  ------  --------------   ----- \n",
      " 0   drug    195605 non-null  object\n",
      " 1   brand   195605 non-null  object\n",
      " 2   effect  195605 non-null  object\n",
      "dtypes: object(3)\n",
      "memory usage: 4.5+ MB\n"
     ]
    }
   ],
   "source": [
    "df.info()"
   ]
  },
  {
   "cell_type": "code",
   "execution_count": 44,
   "metadata": {},
   "outputs": [
    {
     "ename": "TypeError",
     "evalue": "string indices must be integers",
     "output_type": "error",
     "traceback": [
      "\u001b[1;31m---------------------------------------------------------------------------\u001b[0m",
      "\u001b[1;31mTypeError\u001b[0m                                 Traceback (most recent call last)",
      "Cell \u001b[1;32mIn[44], line 2\u001b[0m\n\u001b[0;32m      1\u001b[0m \u001b[38;5;66;03m# Filter rows where drug_interactions is not an empty list\u001b[39;00m\n\u001b[1;32m----> 2\u001b[0m df_filtered \u001b[38;5;241m=\u001b[39m data[\u001b[43mdata\u001b[49m\u001b[43m[\u001b[49m\u001b[38;5;124;43m'\u001b[39;49m\u001b[38;5;124;43mdrug_interactions\u001b[39;49m\u001b[38;5;124;43m'\u001b[39;49m\u001b[43m]\u001b[49m\u001b[38;5;241;43m.\u001b[39;49m\u001b[43mapply\u001b[49m\u001b[43m(\u001b[49m\u001b[38;5;28;43;01mlambda\u001b[39;49;00m\u001b[43m \u001b[49m\u001b[43mx\u001b[49m\u001b[43m:\u001b[49m\u001b[43m \u001b[49m\u001b[38;5;28;43mlen\u001b[39;49m\u001b[43m(\u001b[49m\u001b[43mx\u001b[49m\u001b[43m[\u001b[49m\u001b[38;5;124;43m'\u001b[39;49m\u001b[38;5;124;43mdrug\u001b[39;49m\u001b[38;5;124;43m'\u001b[39;49m\u001b[43m]\u001b[49m\u001b[43m)\u001b[49m\u001b[43m \u001b[49m\u001b[38;5;241;43m>\u001b[39;49m\u001b[43m \u001b[49m\u001b[38;5;241;43m0\u001b[39;49m\u001b[43m)\u001b[49m]\n\u001b[0;32m      4\u001b[0m \u001b[38;5;66;03m# Reset the index after filtering\u001b[39;00m\n\u001b[0;32m      5\u001b[0m df_filtered\u001b[38;5;241m.\u001b[39mreset_index(drop\u001b[38;5;241m=\u001b[39m\u001b[38;5;28;01mTrue\u001b[39;00m, inplace\u001b[38;5;241m=\u001b[39m\u001b[38;5;28;01mTrue\u001b[39;00m)\n",
      "File \u001b[1;32mc:\\Users\\prudh\\anaconda3\\envs\\gpu_env\\lib\\site-packages\\pandas\\core\\series.py:4915\u001b[0m, in \u001b[0;36mSeries.apply\u001b[1;34m(self, func, convert_dtype, args, by_row, **kwargs)\u001b[0m\n\u001b[0;32m   4780\u001b[0m \u001b[38;5;28;01mdef\u001b[39;00m \u001b[38;5;21mapply\u001b[39m(\n\u001b[0;32m   4781\u001b[0m     \u001b[38;5;28mself\u001b[39m,\n\u001b[0;32m   4782\u001b[0m     func: AggFuncType,\n\u001b[1;32m   (...)\u001b[0m\n\u001b[0;32m   4787\u001b[0m     \u001b[38;5;241m*\u001b[39m\u001b[38;5;241m*\u001b[39mkwargs,\n\u001b[0;32m   4788\u001b[0m ) \u001b[38;5;241m-\u001b[39m\u001b[38;5;241m>\u001b[39m DataFrame \u001b[38;5;241m|\u001b[39m Series:\n\u001b[0;32m   4789\u001b[0m \u001b[38;5;250m    \u001b[39m\u001b[38;5;124;03m\"\"\"\u001b[39;00m\n\u001b[0;32m   4790\u001b[0m \u001b[38;5;124;03m    Invoke function on values of Series.\u001b[39;00m\n\u001b[0;32m   4791\u001b[0m \n\u001b[1;32m   (...)\u001b[0m\n\u001b[0;32m   4906\u001b[0m \u001b[38;5;124;03m    dtype: float64\u001b[39;00m\n\u001b[0;32m   4907\u001b[0m \u001b[38;5;124;03m    \"\"\"\u001b[39;00m\n\u001b[0;32m   4908\u001b[0m     \u001b[38;5;28;01mreturn\u001b[39;00m \u001b[43mSeriesApply\u001b[49m\u001b[43m(\u001b[49m\n\u001b[0;32m   4909\u001b[0m \u001b[43m        \u001b[49m\u001b[38;5;28;43mself\u001b[39;49m\u001b[43m,\u001b[49m\n\u001b[0;32m   4910\u001b[0m \u001b[43m        \u001b[49m\u001b[43mfunc\u001b[49m\u001b[43m,\u001b[49m\n\u001b[0;32m   4911\u001b[0m \u001b[43m        \u001b[49m\u001b[43mconvert_dtype\u001b[49m\u001b[38;5;241;43m=\u001b[39;49m\u001b[43mconvert_dtype\u001b[49m\u001b[43m,\u001b[49m\n\u001b[0;32m   4912\u001b[0m \u001b[43m        \u001b[49m\u001b[43mby_row\u001b[49m\u001b[38;5;241;43m=\u001b[39;49m\u001b[43mby_row\u001b[49m\u001b[43m,\u001b[49m\n\u001b[0;32m   4913\u001b[0m \u001b[43m        \u001b[49m\u001b[43margs\u001b[49m\u001b[38;5;241;43m=\u001b[39;49m\u001b[43margs\u001b[49m\u001b[43m,\u001b[49m\n\u001b[0;32m   4914\u001b[0m \u001b[43m        \u001b[49m\u001b[43mkwargs\u001b[49m\u001b[38;5;241;43m=\u001b[39;49m\u001b[43mkwargs\u001b[49m\u001b[43m,\u001b[49m\n\u001b[1;32m-> 4915\u001b[0m \u001b[43m    \u001b[49m\u001b[43m)\u001b[49m\u001b[38;5;241;43m.\u001b[39;49m\u001b[43mapply\u001b[49m\u001b[43m(\u001b[49m\u001b[43m)\u001b[49m\n",
      "File \u001b[1;32mc:\\Users\\prudh\\anaconda3\\envs\\gpu_env\\lib\\site-packages\\pandas\\core\\apply.py:1427\u001b[0m, in \u001b[0;36mSeriesApply.apply\u001b[1;34m(self)\u001b[0m\n\u001b[0;32m   1424\u001b[0m     \u001b[38;5;28;01mreturn\u001b[39;00m \u001b[38;5;28mself\u001b[39m\u001b[38;5;241m.\u001b[39mapply_compat()\n\u001b[0;32m   1426\u001b[0m \u001b[38;5;66;03m# self.func is Callable\u001b[39;00m\n\u001b[1;32m-> 1427\u001b[0m \u001b[38;5;28;01mreturn\u001b[39;00m \u001b[38;5;28;43mself\u001b[39;49m\u001b[38;5;241;43m.\u001b[39;49m\u001b[43mapply_standard\u001b[49m\u001b[43m(\u001b[49m\u001b[43m)\u001b[49m\n",
      "File \u001b[1;32mc:\\Users\\prudh\\anaconda3\\envs\\gpu_env\\lib\\site-packages\\pandas\\core\\apply.py:1507\u001b[0m, in \u001b[0;36mSeriesApply.apply_standard\u001b[1;34m(self)\u001b[0m\n\u001b[0;32m   1501\u001b[0m \u001b[38;5;66;03m# row-wise access\u001b[39;00m\n\u001b[0;32m   1502\u001b[0m \u001b[38;5;66;03m# apply doesn't have a `na_action` keyword and for backward compat reasons\u001b[39;00m\n\u001b[0;32m   1503\u001b[0m \u001b[38;5;66;03m# we need to give `na_action=\"ignore\"` for categorical data.\u001b[39;00m\n\u001b[0;32m   1504\u001b[0m \u001b[38;5;66;03m# TODO: remove the `na_action=\"ignore\"` when that default has been changed in\u001b[39;00m\n\u001b[0;32m   1505\u001b[0m \u001b[38;5;66;03m#  Categorical (GH51645).\u001b[39;00m\n\u001b[0;32m   1506\u001b[0m action \u001b[38;5;241m=\u001b[39m \u001b[38;5;124m\"\u001b[39m\u001b[38;5;124mignore\u001b[39m\u001b[38;5;124m\"\u001b[39m \u001b[38;5;28;01mif\u001b[39;00m \u001b[38;5;28misinstance\u001b[39m(obj\u001b[38;5;241m.\u001b[39mdtype, CategoricalDtype) \u001b[38;5;28;01melse\u001b[39;00m \u001b[38;5;28;01mNone\u001b[39;00m\n\u001b[1;32m-> 1507\u001b[0m mapped \u001b[38;5;241m=\u001b[39m \u001b[43mobj\u001b[49m\u001b[38;5;241;43m.\u001b[39;49m\u001b[43m_map_values\u001b[49m\u001b[43m(\u001b[49m\n\u001b[0;32m   1508\u001b[0m \u001b[43m    \u001b[49m\u001b[43mmapper\u001b[49m\u001b[38;5;241;43m=\u001b[39;49m\u001b[43mcurried\u001b[49m\u001b[43m,\u001b[49m\u001b[43m \u001b[49m\u001b[43mna_action\u001b[49m\u001b[38;5;241;43m=\u001b[39;49m\u001b[43maction\u001b[49m\u001b[43m,\u001b[49m\u001b[43m \u001b[49m\u001b[43mconvert\u001b[49m\u001b[38;5;241;43m=\u001b[39;49m\u001b[38;5;28;43mself\u001b[39;49m\u001b[38;5;241;43m.\u001b[39;49m\u001b[43mconvert_dtype\u001b[49m\n\u001b[0;32m   1509\u001b[0m \u001b[43m\u001b[49m\u001b[43m)\u001b[49m\n\u001b[0;32m   1511\u001b[0m \u001b[38;5;28;01mif\u001b[39;00m \u001b[38;5;28mlen\u001b[39m(mapped) \u001b[38;5;129;01mand\u001b[39;00m \u001b[38;5;28misinstance\u001b[39m(mapped[\u001b[38;5;241m0\u001b[39m], ABCSeries):\n\u001b[0;32m   1512\u001b[0m     \u001b[38;5;66;03m# GH#43986 Need to do list(mapped) in order to get treated as nested\u001b[39;00m\n\u001b[0;32m   1513\u001b[0m     \u001b[38;5;66;03m#  See also GH#25959 regarding EA support\u001b[39;00m\n\u001b[0;32m   1514\u001b[0m     \u001b[38;5;28;01mreturn\u001b[39;00m obj\u001b[38;5;241m.\u001b[39m_constructor_expanddim(\u001b[38;5;28mlist\u001b[39m(mapped), index\u001b[38;5;241m=\u001b[39mobj\u001b[38;5;241m.\u001b[39mindex)\n",
      "File \u001b[1;32mc:\\Users\\prudh\\anaconda3\\envs\\gpu_env\\lib\\site-packages\\pandas\\core\\base.py:921\u001b[0m, in \u001b[0;36mIndexOpsMixin._map_values\u001b[1;34m(self, mapper, na_action, convert)\u001b[0m\n\u001b[0;32m    918\u001b[0m \u001b[38;5;28;01mif\u001b[39;00m \u001b[38;5;28misinstance\u001b[39m(arr, ExtensionArray):\n\u001b[0;32m    919\u001b[0m     \u001b[38;5;28;01mreturn\u001b[39;00m arr\u001b[38;5;241m.\u001b[39mmap(mapper, na_action\u001b[38;5;241m=\u001b[39mna_action)\n\u001b[1;32m--> 921\u001b[0m \u001b[38;5;28;01mreturn\u001b[39;00m \u001b[43malgorithms\u001b[49m\u001b[38;5;241;43m.\u001b[39;49m\u001b[43mmap_array\u001b[49m\u001b[43m(\u001b[49m\u001b[43marr\u001b[49m\u001b[43m,\u001b[49m\u001b[43m \u001b[49m\u001b[43mmapper\u001b[49m\u001b[43m,\u001b[49m\u001b[43m \u001b[49m\u001b[43mna_action\u001b[49m\u001b[38;5;241;43m=\u001b[39;49m\u001b[43mna_action\u001b[49m\u001b[43m,\u001b[49m\u001b[43m \u001b[49m\u001b[43mconvert\u001b[49m\u001b[38;5;241;43m=\u001b[39;49m\u001b[43mconvert\u001b[49m\u001b[43m)\u001b[49m\n",
      "File \u001b[1;32mc:\\Users\\prudh\\anaconda3\\envs\\gpu_env\\lib\\site-packages\\pandas\\core\\algorithms.py:1743\u001b[0m, in \u001b[0;36mmap_array\u001b[1;34m(arr, mapper, na_action, convert)\u001b[0m\n\u001b[0;32m   1741\u001b[0m values \u001b[38;5;241m=\u001b[39m arr\u001b[38;5;241m.\u001b[39mastype(\u001b[38;5;28mobject\u001b[39m, copy\u001b[38;5;241m=\u001b[39m\u001b[38;5;28;01mFalse\u001b[39;00m)\n\u001b[0;32m   1742\u001b[0m \u001b[38;5;28;01mif\u001b[39;00m na_action \u001b[38;5;129;01mis\u001b[39;00m \u001b[38;5;28;01mNone\u001b[39;00m:\n\u001b[1;32m-> 1743\u001b[0m     \u001b[38;5;28;01mreturn\u001b[39;00m \u001b[43mlib\u001b[49m\u001b[38;5;241;43m.\u001b[39;49m\u001b[43mmap_infer\u001b[49m\u001b[43m(\u001b[49m\u001b[43mvalues\u001b[49m\u001b[43m,\u001b[49m\u001b[43m \u001b[49m\u001b[43mmapper\u001b[49m\u001b[43m,\u001b[49m\u001b[43m \u001b[49m\u001b[43mconvert\u001b[49m\u001b[38;5;241;43m=\u001b[39;49m\u001b[43mconvert\u001b[49m\u001b[43m)\u001b[49m\n\u001b[0;32m   1744\u001b[0m \u001b[38;5;28;01melse\u001b[39;00m:\n\u001b[0;32m   1745\u001b[0m     \u001b[38;5;28;01mreturn\u001b[39;00m lib\u001b[38;5;241m.\u001b[39mmap_infer_mask(\n\u001b[0;32m   1746\u001b[0m         values, mapper, mask\u001b[38;5;241m=\u001b[39misna(values)\u001b[38;5;241m.\u001b[39mview(np\u001b[38;5;241m.\u001b[39muint8), convert\u001b[38;5;241m=\u001b[39mconvert\n\u001b[0;32m   1747\u001b[0m     )\n",
      "File \u001b[1;32mlib.pyx:2972\u001b[0m, in \u001b[0;36mpandas._libs.lib.map_infer\u001b[1;34m()\u001b[0m\n",
      "Cell \u001b[1;32mIn[44], line 2\u001b[0m, in \u001b[0;36m<lambda>\u001b[1;34m(x)\u001b[0m\n\u001b[0;32m      1\u001b[0m \u001b[38;5;66;03m# Filter rows where drug_interactions is not an empty list\u001b[39;00m\n\u001b[1;32m----> 2\u001b[0m df_filtered \u001b[38;5;241m=\u001b[39m data[data[\u001b[38;5;124m'\u001b[39m\u001b[38;5;124mdrug_interactions\u001b[39m\u001b[38;5;124m'\u001b[39m]\u001b[38;5;241m.\u001b[39mapply(\u001b[38;5;28;01mlambda\u001b[39;00m x: \u001b[38;5;28mlen\u001b[39m(\u001b[43mx\u001b[49m\u001b[43m[\u001b[49m\u001b[38;5;124;43m'\u001b[39;49m\u001b[38;5;124;43mdrug\u001b[39;49m\u001b[38;5;124;43m'\u001b[39;49m\u001b[43m]\u001b[49m) \u001b[38;5;241m>\u001b[39m \u001b[38;5;241m0\u001b[39m)]\n\u001b[0;32m      4\u001b[0m \u001b[38;5;66;03m# Reset the index after filtering\u001b[39;00m\n\u001b[0;32m      5\u001b[0m df_filtered\u001b[38;5;241m.\u001b[39mreset_index(drop\u001b[38;5;241m=\u001b[39m\u001b[38;5;28;01mTrue\u001b[39;00m, inplace\u001b[38;5;241m=\u001b[39m\u001b[38;5;28;01mTrue\u001b[39;00m)\n",
      "\u001b[1;31mTypeError\u001b[0m: string indices must be integers"
     ]
    }
   ],
   "source": [
    "# Filter rows where drug_interactions is not an empty list\n",
    "df_filtered = data[data['drug_interactions'].apply(lambda x: len(x['drug']) > 0)]\n",
    "\n",
    "# Reset the index after filtering\n",
    "df_filtered.reset_index(drop=True, inplace=True)\n",
    "\n",
    "# Print the description of the filtered DataFrame\n",
    "print(df_filtered.describe())\n"
   ]
  },
  {
   "cell_type": "code",
   "execution_count": 45,
   "metadata": {},
   "outputs": [],
   "source": [
    "import gc"
   ]
  },
  {
   "cell_type": "code",
   "execution_count": 47,
   "metadata": {},
   "outputs": [
    {
     "data": {
      "text/plain": [
       "16"
      ]
     },
     "execution_count": 47,
     "metadata": {},
     "output_type": "execute_result"
    }
   ],
   "source": [
    "gc.collect()"
   ]
  },
  {
   "cell_type": "code",
   "execution_count": null,
   "metadata": {},
   "outputs": [],
   "source": []
  }
 ],
 "metadata": {
  "kernelspec": {
   "display_name": "gpu_env",
   "language": "python",
   "name": "python3"
  },
  "language_info": {
   "codemirror_mode": {
    "name": "ipython",
    "version": 3
   },
   "file_extension": ".py",
   "mimetype": "text/x-python",
   "name": "python",
   "nbconvert_exporter": "python",
   "pygments_lexer": "ipython3",
   "version": "3.10.0"
  }
 },
 "nbformat": 4,
 "nbformat_minor": 2
}
